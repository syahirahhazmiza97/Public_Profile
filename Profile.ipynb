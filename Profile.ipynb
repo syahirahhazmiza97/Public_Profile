{
 "cells": [
  {
   "cell_type": "code",
   "execution_count": 5,
   "metadata": {
    "scrolled": true
   },
   "outputs": [
    {
     "data": {
      "text/html": [
       "<script>var py = Jupyter.notebook.kernel</script>"
      ],
      "text/plain": [
       "<IPython.core.display.HTML object>"
      ]
     },
     "metadata": {},
     "output_type": "display_data"
    }
   ],
   "source": [
    "%run ~/Apps/io_View/embed.ipynb"
   ]
  },
  {
   "cell_type": "code",
   "execution_count": 2,
   "metadata": {},
   "outputs": [
    {
     "data": {
      "text/html": [
       "<style>\n",
       ".toc-item-num { /* Removes Numbers from Heading */\n",
       "    visibility: hidden;\n",
       "}\n",
       "div.text_cell_render h1 { /* Main titles bigger, centered */\n",
       "    text-align:center;\n",
       "    font-size: 3em;\n",
       "    color: black;\n",
       "}\n",
       "div.text_cell_render { /* Customize text cells */\n",
       "    font-size: 1.2em;\n",
       "    line-height:1.4em;\n",
       "    color: rgb(100, 100, 100);\n",
       "}\n",
       "</style>"
      ],
      "text/plain": [
       "<IPython.core.display.HTML object>"
      ]
     },
     "metadata": {},
     "output_type": "display_data"
    }
   ],
   "source": [
    "display(HTML(\"\"\"<style>\n",
    ".toc-item-num { /* Removes Numbers from Heading */\n",
    "    visibility: hidden;\n",
    "}\n",
    "div.text_cell_render h1 { /* Main titles bigger, centered */\n",
    "    text-align:center;\n",
    "    font-size: 3em;\n",
    "    color: black;\n",
    "}\n",
    "div.text_cell_render { /* Customize text cells */\n",
    "    font-size: 1.2em;\n",
    "    line-height:1.4em;\n",
    "    color: rgb(100, 100, 100);\n",
    "}\n",
    "</style>\"\"\"))"
   ]
  },
  {
   "cell_type": "markdown",
   "metadata": {},
   "source": [
    "\n",
    "# Syahirah Hazmiza\n",
    "\n",
    "<p style=\"text-align:center\">\n",
    "    <font color=\"magenta\">Computer Science Student</font>, \n",
    "    <font color=\"green\">Data Science</font>,\n",
    "    <font color=\"blue\">Reading</font>,\n",
    "    <font color=\"brown\">Math is love</font>\n",
    "</p>"
   ]
  },
  {
   "cell_type": "markdown",
   "metadata": {
    "cell_style": "split"
   },
   "source": [
    "<img class=\"img-responsive img-circle\"  width=\"50%\" src=\"my-passport-photo.jpg\" >"
   ]
  },
  {
   "cell_type": "markdown",
   "metadata": {
    "cell_style": "split"
   },
   "source": [
    "<hr>\n",
    "Hi, I'm Syahirah! \n",
    "\n",
    "I learnt <font color=\"orange\">io</font> so that I could do my program for my final year project. I then realized <font color=\"orange\">io</font> makes learning to program way easier and fun!\n",
    "\n",
    "I am a student in [Shah Alam](https://www.mamawosh.com/wp-content/uploads/2017/11/Things-to-do-in-Shah-Alam-city-of-Selangor-Malaysia.jpg) where I studied [Computer Science](https://en.wikipedia.org/wiki/Computer_science). I will be going for an internship later in August. Wish me luck!\n",
    "\n",
    "Lately I've been busy trying to finish all my projects and the due date is just around the corner. I am down to two projects left. My favorite things to read are [Harry Potter](https://en.wikipedia.org/wiki/Harry_Potter) and [R.L. Stine](https://en.wikipedia.org/wiki/R._L._Stine) is my favourite author for horror novels, especially the [Fear Street Nights](https://en.wikipedia.org/wiki/R._L._Stine#Fear_Street_Nights) series.\n",
    "\n"
   ]
  },
  {
   "cell_type": "markdown",
   "metadata": {
    "cell_style": "split"
   },
   "source": [
    "**Hobbies & Fun Facts**\n",
    "* I **LOVE** <font color=\"blue\">playing games</font> and <font color=\"blue\">sleeping</font> (Love to take a nap!)\n",
    "* Favorite Show: Running Man \n",
    "* but really... I spend most of my time [geeking out over books](https://goo.gl/images/gYghQf) (if i do have lots of free time)"
   ]
  },
  {
   "cell_type": "markdown",
   "metadata": {},
   "source": [
    "## If I had more to say it'd go here"
   ]
  },
  {
   "cell_type": "markdown",
   "metadata": {},
   "source": [
    "I made this <font color=\"green\">smiley face</font> using one of the apps I built in <font color=\"orange\">io</font>"
   ]
  },
  {
   "cell_type": "code",
   "execution_count": 4,
   "metadata": {},
   "outputs": [
    {
     "ename": "NameError",
     "evalue": "name 'embedFile' is not defined",
     "output_type": "error",
     "traceback": [
      "\u001b[0;31m\u001b[0m",
      "\u001b[0;31mNameError\u001b[0mTraceback (most recent call last)",
      "\u001b[0;32m<ipython-input-4-a84514e888f6>\u001b[0m in \u001b[0;36m<module>\u001b[0;34m\u001b[0m\n\u001b[0;32m----> 1\u001b[0;31m \u001b[0membedFile\u001b[0m\u001b[0;34m(\u001b[0m\u001b[0;34m\"Graph.html\"\u001b[0m\u001b[0;34m)\u001b[0m\u001b[0;34m\u001b[0m\u001b[0;34m\u001b[0m\u001b[0m\n\u001b[0m",
      "\u001b[0;31mNameError\u001b[0m: name 'embedFile' is not defined"
     ]
    }
   ],
   "source": [
    "embedFile(\"Graph.html\")"
   ]
  },
  {
   "cell_type": "markdown",
   "metadata": {},
   "source": [
    "## And if I had even more to say..."
   ]
  },
  {
   "cell_type": "markdown",
   "metadata": {},
   "source": [
    "This is how you make cool looking math\n",
    "$$\n",
    "1 +  \\frac{q^2}{(1-q)}+\\frac{q^6}{(1-q)(1-q^2)}+\\cdots =\n",
    "\\prod_{j=0}^{\\infty}\\frac{1}{(1-q^{5j+2})(1-q^{5j+3})},\n",
    "\\quad\\quad \\text{for $|q|<1$}.\n",
    "$$"
   ]
  }
 ],
 "metadata": {
  "hide_input": true,
  "kernelspec": {
   "display_name": "Python 3",
   "language": "python",
   "name": "python3"
  },
  "language_info": {
   "codemirror_mode": {
    "name": "ipython",
    "version": 3
   },
   "file_extension": ".py",
   "mimetype": "text/x-python",
   "name": "python",
   "nbconvert_exporter": "python",
   "pygments_lexer": "ipython3",
   "version": "3.7.3"
  },
  "toc": {
   "base_numbering": 1,
   "nav_menu": {},
   "number_sections": true,
   "sideBar": true,
   "skip_h1_title": false,
   "title_cell": "Table of Contents",
   "title_sidebar": "Contents",
   "toc_cell": false,
   "toc_position": {},
   "toc_section_display": true,
   "toc_window_display": false
  },
  "varInspector": {
   "cols": {
    "lenName": 16,
    "lenType": 16,
    "lenVar": 40
   },
   "kernels_config": {
    "python": {
     "delete_cmd_postfix": "",
     "delete_cmd_prefix": "del ",
     "library": "var_list.py",
     "varRefreshCmd": "print(var_dic_list())"
    },
    "r": {
     "delete_cmd_postfix": ") ",
     "delete_cmd_prefix": "rm(",
     "library": "var_list.r",
     "varRefreshCmd": "cat(var_dic_list()) "
    }
   },
   "types_to_exclude": [
    "module",
    "function",
    "builtin_function_or_method",
    "instance",
    "_Feature"
   ],
   "window_display": false
  },
  "widgets": {
   "application/vnd.jupyter.widget-state+json": {
    "state": {},
    "version_major": 2,
    "version_minor": 0
   }
  }
 },
 "nbformat": 4,
 "nbformat_minor": 2
}
